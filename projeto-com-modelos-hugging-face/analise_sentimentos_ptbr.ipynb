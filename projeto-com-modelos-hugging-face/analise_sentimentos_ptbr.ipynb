{
 "cells": [
  {
   "cell_type": "markdown",
   "metadata": {},
   "source": [
    "# Modelos de analise de sentimentos"
   ]
  },
  {
   "cell_type": "code",
   "execution_count": 4,
   "metadata": {},
   "outputs": [],
   "source": [
    "from pysentimiento import create_analyzer"
   ]
  },
  {
   "cell_type": "code",
   "execution_count": 2,
   "metadata": {},
   "outputs": [],
   "source": [
    "modelo = 'pysentimiento/bertweet-pt-sentiment'"
   ]
  },
  {
   "cell_type": "code",
   "execution_count": 7,
   "metadata": {},
   "outputs": [],
   "source": [
    "modelo_analise_sentimento = create_analyzer(task='sentiment', lang='pt')"
   ]
  },
  {
   "cell_type": "code",
   "execution_count": 21,
   "metadata": {},
   "outputs": [],
   "source": [
    "def analisar_sentimento(texto):\n",
    "    resultado = modelo_analise_sentimento.predict(texto)\n",
    "    return '\\n'.join([f'Sentimento: {resultado.output}', 'Confiança: ', f'\\tNegativo: {resultado.probas.get(\"NEG\")}', f'\\tNeutro: {resultado.probas.get(\"NEU\")}', f'\\tPositivo: {resultado.probas.get(\"POS\")}'])"
   ]
  },
  {
   "cell_type": "code",
   "execution_count": 23,
   "metadata": {},
   "outputs": [
    {
     "name": "stdout",
     "output_type": "stream",
     "text": [
      "Sentimento: NEG\n",
      "Confiança: \n",
      "\tNegativo: 0.9838698506355286\n",
      "\tNeutro: 0.009782686829566956\n",
      "\tPositivo: 0.006347368936985731\n"
     ]
    }
   ],
   "source": [
    "print(analisar_sentimento(\"Eu odeio quando a internet não funciona\"))"
   ]
  },
  {
   "cell_type": "code",
   "execution_count": 24,
   "metadata": {},
   "outputs": [
    {
     "name": "stdout",
     "output_type": "stream",
     "text": [
      "Sentimento: NEG\n",
      "Confiança: \n",
      "\tNegativo: 0.9920969009399414\n",
      "\tNeutro: 0.0034392480738461018\n",
      "\tPositivo: 0.004463882651180029\n"
     ]
    }
   ],
   "source": [
    "print(analisar_sentimento('Eu odeio este produto!'))"
   ]
  },
  {
   "cell_type": "code",
   "execution_count": 26,
   "metadata": {},
   "outputs": [
    {
     "name": "stdout",
     "output_type": "stream",
     "text": [
      "Sentimento: NEU\n",
      "Confiança: \n",
      "\tNegativo: 0.16409549117088318\n",
      "\tNeutro: 0.8187859654426575\n",
      "\tPositivo: 0.017118575051426888\n"
     ]
    }
   ],
   "source": [
    "print(analisar_sentimento('Estes produtos foram vendidos fora da data de entrega'))"
   ]
  },
  {
   "cell_type": "code",
   "execution_count": 28,
   "metadata": {},
   "outputs": [
    {
     "name": "stdout",
     "output_type": "stream",
     "text": [
      "Sentimento: NEU\n",
      "Confiança: \n",
      "\tNegativo: 0.15663763880729675\n",
      "\tNeutro: 0.5257287621498108\n",
      "\tPositivo: 0.31763359904289246\n"
     ]
    }
   ],
   "source": [
    "print(analisar_sentimento('O melhor produtos de todos, mas tem suas resalvas devido fazer muito barulho.'))"
   ]
  },
  {
   "cell_type": "code",
   "execution_count": null,
   "metadata": {},
   "outputs": [],
   "source": []
  }
 ],
 "metadata": {
  "kernelspec": {
   "display_name": "projeto-com-modelos-hugging-face-cWvEdnYs-py3.12",
   "language": "python",
   "name": "python3"
  },
  "language_info": {
   "codemirror_mode": {
    "name": "ipython",
    "version": 3
   },
   "file_extension": ".py",
   "mimetype": "text/x-python",
   "name": "python",
   "nbconvert_exporter": "python",
   "pygments_lexer": "ipython3",
   "version": "3.12.4"
  }
 },
 "nbformat": 4,
 "nbformat_minor": 2
}
