{
 "cells": [
  {
   "cell_type": "markdown",
   "metadata": {},
   "source": [
    "# Modelos de analise de sentimentos"
   ]
  },
  {
   "cell_type": "code",
   "execution_count": 1,
   "metadata": {},
   "outputs": [
    {
     "name": "stderr",
     "output_type": "stream",
     "text": [
      "/home/alfa/.cache/pypoetry/virtualenvs/projeto-com-modelos-hugging-face-cWvEdnYs-py3.12/lib/python3.12/site-packages/tqdm/auto.py:21: TqdmWarning: IProgress not found. Please update jupyter and ipywidgets. See https://ipywidgets.readthedocs.io/en/stable/user_install.html\n",
      "  from .autonotebook import tqdm as notebook_tqdm\n"
     ]
    }
   ],
   "source": [
    "from pysentimiento import create_analyzer\n",
    "import polars as pl\n",
    "from plotly import express as px"
   ]
  },
  {
   "cell_type": "markdown",
   "metadata": {},
   "source": [
    "## Testando modelos de analise de sentimentos"
   ]
  },
  {
   "cell_type": "code",
   "execution_count": 2,
   "metadata": {},
   "outputs": [],
   "source": [
    "modelo = 'pysentimiento/bertweet-pt-sentiment'"
   ]
  },
  {
   "cell_type": "code",
   "execution_count": 3,
   "metadata": {},
   "outputs": [],
   "source": [
    "modelo_analise_sentimento = create_analyzer(task='sentiment', lang='pt')"
   ]
  },
  {
   "cell_type": "code",
   "execution_count": 4,
   "metadata": {},
   "outputs": [],
   "source": [
    "sentimentos_dict = {\n",
    "    'NEG': 'Negativo',\n",
    "    'NEU': 'Neutro',\n",
    "    'POS': 'Positivo'\n",
    "}"
   ]
  },
  {
   "cell_type": "code",
   "execution_count": 5,
   "metadata": {},
   "outputs": [],
   "source": [
    "def analisar_sentimento(texto):\n",
    "    resultado = modelo_analise_sentimento.predict(texto)\n",
    "    return '\\n'.join([\n",
    "        f'Sentimento: {sentimentos_dict.get(resultado.output)}',\n",
    "        'Confiança: ',\n",
    "        f'\\tNegativo: {resultado.probas.get(\"NEG\")}',\n",
    "        f'\\tNeutro: {resultado.probas.get(\"NEU\")}',\n",
    "        f'\\tPositivo: {resultado.probas.get(\"POS\")}'\n",
    "    ])"
   ]
  },
  {
   "cell_type": "code",
   "execution_count": 6,
   "metadata": {},
   "outputs": [
    {
     "name": "stdout",
     "output_type": "stream",
     "text": [
      "Sentimento: Negativo\n",
      "Confiança: \n",
      "\tNegativo: 0.9838698506355286\n",
      "\tNeutro: 0.009782686829566956\n",
      "\tPositivo: 0.006347368936985731\n"
     ]
    }
   ],
   "source": [
    "print(analisar_sentimento(\"Eu odeio quando a internet não funciona\"))"
   ]
  },
  {
   "cell_type": "code",
   "execution_count": 7,
   "metadata": {},
   "outputs": [
    {
     "name": "stdout",
     "output_type": "stream",
     "text": [
      "Sentimento: Negativo\n",
      "Confiança: \n",
      "\tNegativo: 0.9920969009399414\n",
      "\tNeutro: 0.0034392480738461018\n",
      "\tPositivo: 0.004463882651180029\n"
     ]
    }
   ],
   "source": [
    "print(analisar_sentimento('Eu odeio este produto!'))"
   ]
  },
  {
   "cell_type": "code",
   "execution_count": 8,
   "metadata": {},
   "outputs": [
    {
     "name": "stdout",
     "output_type": "stream",
     "text": [
      "Sentimento: Neutro\n",
      "Confiança: \n",
      "\tNegativo: 0.16409549117088318\n",
      "\tNeutro: 0.8187859654426575\n",
      "\tPositivo: 0.017118575051426888\n"
     ]
    }
   ],
   "source": [
    "print(analisar_sentimento('Estes produtos foram vendidos fora da data de entrega'))"
   ]
  },
  {
   "cell_type": "code",
   "execution_count": 9,
   "metadata": {},
   "outputs": [
    {
     "name": "stdout",
     "output_type": "stream",
     "text": [
      "Sentimento: Neutro\n",
      "Confiança: \n",
      "\tNegativo: 0.15663763880729675\n",
      "\tNeutro: 0.5257287621498108\n",
      "\tPositivo: 0.31763359904289246\n"
     ]
    }
   ],
   "source": [
    "print(analisar_sentimento('O melhor produtos de todos, mas tem suas resalvas devido fazer muito barulho.'))"
   ]
  },
  {
   "cell_type": "markdown",
   "metadata": {},
   "source": [
    "## Carragando os dados para analise de sentimentos"
   ]
  },
  {
   "cell_type": "code",
   "execution_count": 10,
   "metadata": {},
   "outputs": [],
   "source": [
    "df = pl.read_csv('../dados/resenhas.csv')"
   ]
  },
  {
   "cell_type": "code",
   "execution_count": 11,
   "metadata": {},
   "outputs": [],
   "source": [
    "df = df.sort('ID')"
   ]
  },
  {
   "cell_type": "code",
   "execution_count": 12,
   "metadata": {},
   "outputs": [
    {
     "name": "stdout",
     "output_type": "stream",
     "text": [
      "ID: 21\n",
      "Sentimento: Neutro\n",
      "Confiança: \n",
      "\tNegativo: 0.3315524458885193\n",
      "\tNeutro: 0.6556147336959839\n",
      "\tPositivo: 0.012832829728722572\n",
      "ID: 24\n",
      "Sentimento: Positivo\n",
      "Confiança: \n",
      "\tNegativo: 0.002398931887000799\n",
      "\tNeutro: 0.008684467524290085\n",
      "\tPositivo: 0.9889166355133057\n",
      "ID: 47\n",
      "Sentimento: Positivo\n",
      "Confiança: \n",
      "\tNegativo: 0.0020241455640643835\n",
      "\tNeutro: 0.010792884044349194\n",
      "\tPositivo: 0.9871829748153687\n",
      "ID: 62\n",
      "Sentimento: Negativo\n",
      "Confiança: \n",
      "\tNegativo: 0.9854169487953186\n",
      "\tNeutro: 0.011170672252774239\n",
      "\tPositivo: 0.0034124357625842094\n",
      "ID: 121\n",
      "Sentimento: Negativo\n",
      "Confiança: \n",
      "\tNegativo: 0.9683650135993958\n",
      "\tNeutro: 0.026900380849838257\n",
      "\tPositivo: 0.004734572023153305\n",
      "ID: 123\n",
      "Sentimento: Negativo\n",
      "Confiança: \n",
      "\tNegativo: 0.9923976063728333\n",
      "\tNeutro: 0.005028190556913614\n",
      "\tPositivo: 0.002574155805632472\n",
      "ID: 135\n",
      "Sentimento: Negativo\n",
      "Confiança: \n",
      "\tNegativo: 0.9631906151771545\n",
      "\tNeutro: 0.03116423264145851\n",
      "\tPositivo: 0.005645196419209242\n",
      "ID: 182\n",
      "Sentimento: Positivo\n",
      "Confiança: \n",
      "\tNegativo: 0.06887587159872055\n",
      "\tNeutro: 0.09301956743001938\n",
      "\tPositivo: 0.8381046056747437\n",
      "ID: 202\n",
      "Sentimento: Positivo\n",
      "Confiança: \n",
      "\tNegativo: 0.010708569549024105\n",
      "\tNeutro: 0.10463758558034897\n",
      "\tPositivo: 0.8846538662910461\n",
      "ID: 284\n",
      "Sentimento: Positivo\n",
      "Confiança: \n",
      "\tNegativo: 0.0016465715598315\n",
      "\tNeutro: 0.005632826592773199\n",
      "\tPositivo: 0.9927206039428711\n",
      "ID: 343\n",
      "Sentimento: Positivo\n",
      "Confiança: \n",
      "\tNegativo: 0.003273986978456378\n",
      "\tNeutro: 0.036125656217336655\n",
      "\tPositivo: 0.9606003761291504\n",
      "ID: 365\n",
      "Sentimento: Negativo\n",
      "Confiança: \n",
      "\tNegativo: 0.8957977890968323\n",
      "\tNeutro: 0.10000261664390564\n",
      "\tPositivo: 0.004199658986181021\n",
      "ID: 395\n",
      "Sentimento: Neutro\n",
      "Confiança: \n",
      "\tNegativo: 0.25105491280555725\n",
      "\tNeutro: 0.7231183052062988\n",
      "\tPositivo: 0.02582675963640213\n",
      "ID: 405\n",
      "Sentimento: Negativo\n",
      "Confiança: \n",
      "\tNegativo: 0.9878717660903931\n",
      "\tNeutro: 0.007989102974534035\n",
      "\tPositivo: 0.0041391742415726185\n",
      "ID: 437\n",
      "Sentimento: Negativo\n",
      "Confiança: \n",
      "\tNegativo: 0.7146682739257812\n",
      "\tNeutro: 0.12208259850740433\n",
      "\tPositivo: 0.16324912011623383\n",
      "ID: 452\n",
      "Sentimento: Neutro\n",
      "Confiança: \n",
      "\tNegativo: 0.17566144466400146\n",
      "\tNeutro: 0.5182123184204102\n",
      "\tPositivo: 0.3061262369155884\n",
      "ID: 462\n",
      "Sentimento: Positivo\n",
      "Confiança: \n",
      "\tNegativo: 0.07339204102754593\n",
      "\tNeutro: 0.0813211053609848\n",
      "\tPositivo: 0.8452868461608887\n",
      "ID: 503\n",
      "Sentimento: Negativo\n",
      "Confiança: \n",
      "\tNegativo: 0.9926247000694275\n",
      "\tNeutro: 0.004400255158543587\n",
      "\tPositivo: 0.0029751064721494913\n",
      "ID: 504\n",
      "Sentimento: Negativo\n",
      "Confiança: \n",
      "\tNegativo: 0.5197163820266724\n",
      "\tNeutro: 0.1101369857788086\n",
      "\tPositivo: 0.37014660239219666\n",
      "ID: 543\n",
      "Sentimento: Negativo\n",
      "Confiança: \n",
      "\tNegativo: 0.9895392060279846\n",
      "\tNeutro: 0.007553351577371359\n",
      "\tPositivo: 0.0029073578771203756\n",
      "ID: 614\n",
      "Sentimento: Negativo\n",
      "Confiança: \n",
      "\tNegativo: 0.9905955791473389\n",
      "\tNeutro: 0.0072859409265220165\n",
      "\tPositivo: 0.002118505770340562\n",
      "ID: 624\n",
      "Sentimento: Positivo\n",
      "Confiança: \n",
      "\tNegativo: 0.0028754794038832188\n",
      "\tNeutro: 0.006946989800781012\n",
      "\tPositivo: 0.9901774525642395\n",
      "ID: 628\n",
      "Sentimento: Positivo\n",
      "Confiança: \n",
      "\tNegativo: 0.002985897706821561\n",
      "\tNeutro: 0.02092282474040985\n",
      "\tPositivo: 0.9760913252830505\n",
      "ID: 647\n",
      "Sentimento: Negativo\n",
      "Confiança: \n",
      "\tNegativo: 0.9929814338684082\n",
      "\tNeutro: 0.0044769705273211\n",
      "\tPositivo: 0.0025415243580937386\n",
      "ID: 657\n",
      "Sentimento: Positivo\n",
      "Confiança: \n",
      "\tNegativo: 0.0070854173973202705\n",
      "\tNeutro: 0.03680047020316124\n",
      "\tPositivo: 0.9561141729354858\n",
      "ID: 690\n",
      "Sentimento: Neutro\n",
      "Confiança: \n",
      "\tNegativo: 0.15412424504756927\n",
      "\tNeutro: 0.5990568995475769\n",
      "\tPositivo: 0.2468188852071762\n",
      "ID: 733\n",
      "Sentimento: Positivo\n",
      "Confiança: \n",
      "\tNegativo: 0.010577543638646603\n",
      "\tNeutro: 0.31955668330192566\n",
      "\tPositivo: 0.6698657274246216\n",
      "ID: 735\n",
      "Sentimento: Negativo\n",
      "Confiança: \n",
      "\tNegativo: 0.9074450135231018\n",
      "\tNeutro: 0.08468398451805115\n",
      "\tPositivo: 0.007870947010815144\n",
      "ID: 766\n",
      "Sentimento: Negativo\n",
      "Confiança: \n",
      "\tNegativo: 0.8412547707557678\n",
      "\tNeutro: 0.14261272549629211\n",
      "\tPositivo: 0.016132468357682228\n",
      "ID: 771\n",
      "Sentimento: Negativo\n",
      "Confiança: \n",
      "\tNegativo: 0.8677228093147278\n",
      "\tNeutro: 0.11964723467826843\n",
      "\tPositivo: 0.012629946693778038\n",
      "ID: 809\n",
      "Sentimento: Negativo\n",
      "Confiança: \n",
      "\tNegativo: 0.7308095693588257\n",
      "\tNeutro: 0.25896167755126953\n",
      "\tPositivo: 0.010228731669485569\n",
      "ID: 815\n",
      "Sentimento: Positivo\n",
      "Confiança: \n",
      "\tNegativo: 0.0018009323393926024\n",
      "\tNeutro: 0.007926967926323414\n",
      "\tPositivo: 0.9902721047401428\n",
      "ID: 847\n",
      "Sentimento: Negativo\n",
      "Confiança: \n",
      "\tNegativo: 0.9685444235801697\n",
      "\tNeutro: 0.012949326075613499\n",
      "\tPositivo: 0.018506143242120743\n",
      "ID: 865\n",
      "Sentimento: Positivo\n",
      "Confiança: \n",
      "\tNegativo: 0.0030032123904675245\n",
      "\tNeutro: 0.09685360640287399\n",
      "\tPositivo: 0.9001432061195374\n",
      "ID: 909\n",
      "Sentimento: Negativo\n",
      "Confiança: \n",
      "\tNegativo: 0.9882519841194153\n",
      "\tNeutro: 0.007733293808996677\n",
      "\tPositivo: 0.004014655482023954\n",
      "ID: 987\n",
      "Sentimento: Negativo\n",
      "Confiança: \n",
      "\tNegativo: 0.9843356609344482\n",
      "\tNeutro: 0.008793424814939499\n",
      "\tPositivo: 0.006870996672660112\n"
     ]
    }
   ],
   "source": [
    "for row in df.iter_rows():\n",
    "    print(f'ID: {row[0]}', analisar_sentimento(row[1]), sep='\\n')"
   ]
  },
  {
   "cell_type": "code",
   "execution_count": 13,
   "metadata": {},
   "outputs": [],
   "source": [
    "sentimentos = df[\"Resenha\"].map_elements(modelo_analise_sentimento.predict, return_dtype=pl.Object)"
   ]
  },
  {
   "cell_type": "code",
   "execution_count": 14,
   "metadata": {},
   "outputs": [],
   "source": [
    "df = df.with_columns([\n",
    "    pl.Series(\"Sentimento\", sentimentos.map_elements(lambda x: sentimentos_dict.get(x.output), return_dtype=pl.Utf8)),\n",
    "    pl.Series(\"Confiança Negativo\", sentimentos.map_elements(lambda x: x.probas.get(\"NEG\"), return_dtype=pl.Float32),),\n",
    "    pl.Series(\"Confiança Neutro\", sentimentos.map_elements(lambda x: x.probas.get(\"NEU\"), return_dtype=pl.Float32)),\n",
    "    pl.Series(\"Confiança Positivo\", sentimentos.map_elements(lambda x: x.probas.get(\"POS\"), return_dtype=pl.Float32))\n",
    "])"
   ]
  },
  {
   "cell_type": "code",
   "execution_count": 15,
   "metadata": {},
   "outputs": [
    {
     "data": {
      "text/html": [
       "<div><style>\n",
       ".dataframe > thead > tr,\n",
       ".dataframe > tbody > tr {\n",
       "  text-align: right;\n",
       "  white-space: pre-wrap;\n",
       "}\n",
       "</style>\n",
       "<small>shape: (36, 6)</small><table border=\"1\" class=\"dataframe\"><thead><tr><th>ID</th><th>Resenha</th><th>Sentimento</th><th>Confiança Negativo</th><th>Confiança Neutro</th><th>Confiança Positivo</th></tr><tr><td>i64</td><td>str</td><td>str</td><td>f32</td><td>f32</td><td>f32</td></tr></thead><tbody><tr><td>21</td><td>&quot;Aparelho bom, mas a sua tampa …</td><td>&quot;Neutro&quot;</td><td>0.331552</td><td>0.655615</td><td>0.012833</td></tr><tr><td>24</td><td>&quot;A fritadeira é sensacional, mu…</td><td>&quot;Positivo&quot;</td><td>0.002399</td><td>0.008684</td><td>0.988917</td></tr><tr><td>47</td><td>&quot;Achei bem boa e super fácil de…</td><td>&quot;Positivo&quot;</td><td>0.002024</td><td>0.010793</td><td>0.987183</td></tr><tr><td>62</td><td>&quot;Infelizmente começa a enferruj…</td><td>&quot;Negativo&quot;</td><td>0.985417</td><td>0.011171</td><td>0.003412</td></tr><tr><td>121</td><td>&quot;Não recomendo esse aparelho! A…</td><td>&quot;Negativo&quot;</td><td>0.968365</td><td>0.0269</td><td>0.004735</td></tr><tr><td>&hellip;</td><td>&hellip;</td><td>&hellip;</td><td>&hellip;</td><td>&hellip;</td><td>&hellip;</td></tr><tr><td>815</td><td>&quot;Chegou no prazo. Amei, é muito…</td><td>&quot;Positivo&quot;</td><td>0.001801</td><td>0.007927</td><td>0.990272</td></tr><tr><td>847</td><td>&quot;Linda em design, ótimos funcio…</td><td>&quot;Negativo&quot;</td><td>0.968544</td><td>0.012949</td><td>0.018506</td></tr><tr><td>865</td><td>&quot;Muito funcional, prática e mod…</td><td>&quot;Positivo&quot;</td><td>0.003003</td><td>0.096854</td><td>0.900143</td></tr><tr><td>909</td><td>&quot;Comprei o produto de uma marca…</td><td>&quot;Negativo&quot;</td><td>0.988252</td><td>0.007733</td><td>0.004015</td></tr><tr><td>987</td><td>&quot;O produto em si é bom, mas com…</td><td>&quot;Negativo&quot;</td><td>0.984336</td><td>0.008793</td><td>0.006871</td></tr></tbody></table></div>"
      ],
      "text/plain": [
       "shape: (36, 6)\n",
       "┌─────┬───────────────────────────┬────────────┬───────────┬──────────────────┬────────────────────┐\n",
       "│ ID  ┆ Resenha                   ┆ Sentimento ┆ Confiança ┆ Confiança Neutro ┆ Confiança Positivo │\n",
       "│ --- ┆ ---                       ┆ ---        ┆ Negativo  ┆ ---              ┆ ---                │\n",
       "│ i64 ┆ str                       ┆ str        ┆ ---       ┆ f32              ┆ f32                │\n",
       "│     ┆                           ┆            ┆ f32       ┆                  ┆                    │\n",
       "╞═════╪═══════════════════════════╪════════════╪═══════════╪══════════════════╪════════════════════╡\n",
       "│ 21  ┆ Aparelho bom, mas a sua   ┆ Neutro     ┆ 0.331552  ┆ 0.655615         ┆ 0.012833           │\n",
       "│     ┆ tampa …                   ┆            ┆           ┆                  ┆                    │\n",
       "│ 24  ┆ A fritadeira é            ┆ Positivo   ┆ 0.002399  ┆ 0.008684         ┆ 0.988917           │\n",
       "│     ┆ sensacional, mu…          ┆            ┆           ┆                  ┆                    │\n",
       "│ 47  ┆ Achei bem boa e super     ┆ Positivo   ┆ 0.002024  ┆ 0.010793         ┆ 0.987183           │\n",
       "│     ┆ fácil de…                 ┆            ┆           ┆                  ┆                    │\n",
       "│ 62  ┆ Infelizmente começa a     ┆ Negativo   ┆ 0.985417  ┆ 0.011171         ┆ 0.003412           │\n",
       "│     ┆ enferruj…                 ┆            ┆           ┆                  ┆                    │\n",
       "│ 121 ┆ Não recomendo esse        ┆ Negativo   ┆ 0.968365  ┆ 0.0269           ┆ 0.004735           │\n",
       "│     ┆ aparelho! A…              ┆            ┆           ┆                  ┆                    │\n",
       "│ …   ┆ …                         ┆ …          ┆ …         ┆ …                ┆ …                  │\n",
       "│ 815 ┆ Chegou no prazo. Amei, é  ┆ Positivo   ┆ 0.001801  ┆ 0.007927         ┆ 0.990272           │\n",
       "│     ┆ muito…                    ┆            ┆           ┆                  ┆                    │\n",
       "│ 847 ┆ Linda em design, ótimos   ┆ Negativo   ┆ 0.968544  ┆ 0.012949         ┆ 0.018506           │\n",
       "│     ┆ funcio…                   ┆            ┆           ┆                  ┆                    │\n",
       "│ 865 ┆ Muito funcional, prática  ┆ Positivo   ┆ 0.003003  ┆ 0.096854         ┆ 0.900143           │\n",
       "│     ┆ e mod…                    ┆            ┆           ┆                  ┆                    │\n",
       "│ 909 ┆ Comprei o produto de uma  ┆ Negativo   ┆ 0.988252  ┆ 0.007733         ┆ 0.004015           │\n",
       "│     ┆ marca…                    ┆            ┆           ┆                  ┆                    │\n",
       "│ 987 ┆ O produto em si é bom,    ┆ Negativo   ┆ 0.984336  ┆ 0.008793         ┆ 0.006871           │\n",
       "│     ┆ mas com…                  ┆            ┆           ┆                  ┆                    │\n",
       "└─────┴───────────────────────────┴────────────┴───────────┴──────────────────┴────────────────────┘"
      ]
     },
     "execution_count": 15,
     "metadata": {},
     "output_type": "execute_result"
    }
   ],
   "source": [
    "df"
   ]
  },
  {
   "cell_type": "markdown",
   "metadata": {},
   "source": [
    "## Renderizando grafico"
   ]
  },
  {
   "cell_type": "code",
   "execution_count": 16,
   "metadata": {},
   "outputs": [
    {
     "data": {
      "application/vnd.plotly.v1+json": {
       "config": {
        "plotlyServerURL": "https://plot.ly"
       },
       "data": [
        {
         "domain": {
          "x": [
           0,
           1
          ],
          "y": [
           0,
           1
          ]
         },
         "hovertemplate": "Sentimento=%{label}<extra></extra>",
         "labels": [
          "Neutro",
          "Positivo",
          "Positivo",
          "Negativo",
          "Negativo",
          "Negativo",
          "Negativo",
          "Positivo",
          "Positivo",
          "Positivo",
          "Positivo",
          "Negativo",
          "Neutro",
          "Negativo",
          "Negativo",
          "Neutro",
          "Positivo",
          "Negativo",
          "Negativo",
          "Negativo",
          "Negativo",
          "Positivo",
          "Positivo",
          "Negativo",
          "Positivo",
          "Neutro",
          "Positivo",
          "Negativo",
          "Negativo",
          "Negativo",
          "Negativo",
          "Positivo",
          "Negativo",
          "Positivo",
          "Negativo",
          "Negativo"
         ],
         "legendgroup": "",
         "name": "",
         "showlegend": true,
         "type": "pie"
        }
       ],
       "layout": {
        "legend": {
         "tracegroupgap": 0
        },
        "template": {
         "data": {
          "bar": [
           {
            "error_x": {
             "color": "#2a3f5f"
            },
            "error_y": {
             "color": "#2a3f5f"
            },
            "marker": {
             "line": {
              "color": "#E5ECF6",
              "width": 0.5
             },
             "pattern": {
              "fillmode": "overlay",
              "size": 10,
              "solidity": 0.2
             }
            },
            "type": "bar"
           }
          ],
          "barpolar": [
           {
            "marker": {
             "line": {
              "color": "#E5ECF6",
              "width": 0.5
             },
             "pattern": {
              "fillmode": "overlay",
              "size": 10,
              "solidity": 0.2
             }
            },
            "type": "barpolar"
           }
          ],
          "carpet": [
           {
            "aaxis": {
             "endlinecolor": "#2a3f5f",
             "gridcolor": "white",
             "linecolor": "white",
             "minorgridcolor": "white",
             "startlinecolor": "#2a3f5f"
            },
            "baxis": {
             "endlinecolor": "#2a3f5f",
             "gridcolor": "white",
             "linecolor": "white",
             "minorgridcolor": "white",
             "startlinecolor": "#2a3f5f"
            },
            "type": "carpet"
           }
          ],
          "choropleth": [
           {
            "colorbar": {
             "outlinewidth": 0,
             "ticks": ""
            },
            "type": "choropleth"
           }
          ],
          "contour": [
           {
            "colorbar": {
             "outlinewidth": 0,
             "ticks": ""
            },
            "colorscale": [
             [
              0,
              "#0d0887"
             ],
             [
              0.1111111111111111,
              "#46039f"
             ],
             [
              0.2222222222222222,
              "#7201a8"
             ],
             [
              0.3333333333333333,
              "#9c179e"
             ],
             [
              0.4444444444444444,
              "#bd3786"
             ],
             [
              0.5555555555555556,
              "#d8576b"
             ],
             [
              0.6666666666666666,
              "#ed7953"
             ],
             [
              0.7777777777777778,
              "#fb9f3a"
             ],
             [
              0.8888888888888888,
              "#fdca26"
             ],
             [
              1,
              "#f0f921"
             ]
            ],
            "type": "contour"
           }
          ],
          "contourcarpet": [
           {
            "colorbar": {
             "outlinewidth": 0,
             "ticks": ""
            },
            "type": "contourcarpet"
           }
          ],
          "heatmap": [
           {
            "colorbar": {
             "outlinewidth": 0,
             "ticks": ""
            },
            "colorscale": [
             [
              0,
              "#0d0887"
             ],
             [
              0.1111111111111111,
              "#46039f"
             ],
             [
              0.2222222222222222,
              "#7201a8"
             ],
             [
              0.3333333333333333,
              "#9c179e"
             ],
             [
              0.4444444444444444,
              "#bd3786"
             ],
             [
              0.5555555555555556,
              "#d8576b"
             ],
             [
              0.6666666666666666,
              "#ed7953"
             ],
             [
              0.7777777777777778,
              "#fb9f3a"
             ],
             [
              0.8888888888888888,
              "#fdca26"
             ],
             [
              1,
              "#f0f921"
             ]
            ],
            "type": "heatmap"
           }
          ],
          "heatmapgl": [
           {
            "colorbar": {
             "outlinewidth": 0,
             "ticks": ""
            },
            "colorscale": [
             [
              0,
              "#0d0887"
             ],
             [
              0.1111111111111111,
              "#46039f"
             ],
             [
              0.2222222222222222,
              "#7201a8"
             ],
             [
              0.3333333333333333,
              "#9c179e"
             ],
             [
              0.4444444444444444,
              "#bd3786"
             ],
             [
              0.5555555555555556,
              "#d8576b"
             ],
             [
              0.6666666666666666,
              "#ed7953"
             ],
             [
              0.7777777777777778,
              "#fb9f3a"
             ],
             [
              0.8888888888888888,
              "#fdca26"
             ],
             [
              1,
              "#f0f921"
             ]
            ],
            "type": "heatmapgl"
           }
          ],
          "histogram": [
           {
            "marker": {
             "pattern": {
              "fillmode": "overlay",
              "size": 10,
              "solidity": 0.2
             }
            },
            "type": "histogram"
           }
          ],
          "histogram2d": [
           {
            "colorbar": {
             "outlinewidth": 0,
             "ticks": ""
            },
            "colorscale": [
             [
              0,
              "#0d0887"
             ],
             [
              0.1111111111111111,
              "#46039f"
             ],
             [
              0.2222222222222222,
              "#7201a8"
             ],
             [
              0.3333333333333333,
              "#9c179e"
             ],
             [
              0.4444444444444444,
              "#bd3786"
             ],
             [
              0.5555555555555556,
              "#d8576b"
             ],
             [
              0.6666666666666666,
              "#ed7953"
             ],
             [
              0.7777777777777778,
              "#fb9f3a"
             ],
             [
              0.8888888888888888,
              "#fdca26"
             ],
             [
              1,
              "#f0f921"
             ]
            ],
            "type": "histogram2d"
           }
          ],
          "histogram2dcontour": [
           {
            "colorbar": {
             "outlinewidth": 0,
             "ticks": ""
            },
            "colorscale": [
             [
              0,
              "#0d0887"
             ],
             [
              0.1111111111111111,
              "#46039f"
             ],
             [
              0.2222222222222222,
              "#7201a8"
             ],
             [
              0.3333333333333333,
              "#9c179e"
             ],
             [
              0.4444444444444444,
              "#bd3786"
             ],
             [
              0.5555555555555556,
              "#d8576b"
             ],
             [
              0.6666666666666666,
              "#ed7953"
             ],
             [
              0.7777777777777778,
              "#fb9f3a"
             ],
             [
              0.8888888888888888,
              "#fdca26"
             ],
             [
              1,
              "#f0f921"
             ]
            ],
            "type": "histogram2dcontour"
           }
          ],
          "mesh3d": [
           {
            "colorbar": {
             "outlinewidth": 0,
             "ticks": ""
            },
            "type": "mesh3d"
           }
          ],
          "parcoords": [
           {
            "line": {
             "colorbar": {
              "outlinewidth": 0,
              "ticks": ""
             }
            },
            "type": "parcoords"
           }
          ],
          "pie": [
           {
            "automargin": true,
            "type": "pie"
           }
          ],
          "scatter": [
           {
            "fillpattern": {
             "fillmode": "overlay",
             "size": 10,
             "solidity": 0.2
            },
            "type": "scatter"
           }
          ],
          "scatter3d": [
           {
            "line": {
             "colorbar": {
              "outlinewidth": 0,
              "ticks": ""
             }
            },
            "marker": {
             "colorbar": {
              "outlinewidth": 0,
              "ticks": ""
             }
            },
            "type": "scatter3d"
           }
          ],
          "scattercarpet": [
           {
            "marker": {
             "colorbar": {
              "outlinewidth": 0,
              "ticks": ""
             }
            },
            "type": "scattercarpet"
           }
          ],
          "scattergeo": [
           {
            "marker": {
             "colorbar": {
              "outlinewidth": 0,
              "ticks": ""
             }
            },
            "type": "scattergeo"
           }
          ],
          "scattergl": [
           {
            "marker": {
             "colorbar": {
              "outlinewidth": 0,
              "ticks": ""
             }
            },
            "type": "scattergl"
           }
          ],
          "scattermapbox": [
           {
            "marker": {
             "colorbar": {
              "outlinewidth": 0,
              "ticks": ""
             }
            },
            "type": "scattermapbox"
           }
          ],
          "scatterpolar": [
           {
            "marker": {
             "colorbar": {
              "outlinewidth": 0,
              "ticks": ""
             }
            },
            "type": "scatterpolar"
           }
          ],
          "scatterpolargl": [
           {
            "marker": {
             "colorbar": {
              "outlinewidth": 0,
              "ticks": ""
             }
            },
            "type": "scatterpolargl"
           }
          ],
          "scatterternary": [
           {
            "marker": {
             "colorbar": {
              "outlinewidth": 0,
              "ticks": ""
             }
            },
            "type": "scatterternary"
           }
          ],
          "surface": [
           {
            "colorbar": {
             "outlinewidth": 0,
             "ticks": ""
            },
            "colorscale": [
             [
              0,
              "#0d0887"
             ],
             [
              0.1111111111111111,
              "#46039f"
             ],
             [
              0.2222222222222222,
              "#7201a8"
             ],
             [
              0.3333333333333333,
              "#9c179e"
             ],
             [
              0.4444444444444444,
              "#bd3786"
             ],
             [
              0.5555555555555556,
              "#d8576b"
             ],
             [
              0.6666666666666666,
              "#ed7953"
             ],
             [
              0.7777777777777778,
              "#fb9f3a"
             ],
             [
              0.8888888888888888,
              "#fdca26"
             ],
             [
              1,
              "#f0f921"
             ]
            ],
            "type": "surface"
           }
          ],
          "table": [
           {
            "cells": {
             "fill": {
              "color": "#EBF0F8"
             },
             "line": {
              "color": "white"
             }
            },
            "header": {
             "fill": {
              "color": "#C8D4E3"
             },
             "line": {
              "color": "white"
             }
            },
            "type": "table"
           }
          ]
         },
         "layout": {
          "annotationdefaults": {
           "arrowcolor": "#2a3f5f",
           "arrowhead": 0,
           "arrowwidth": 1
          },
          "autotypenumbers": "strict",
          "coloraxis": {
           "colorbar": {
            "outlinewidth": 0,
            "ticks": ""
           }
          },
          "colorscale": {
           "diverging": [
            [
             0,
             "#8e0152"
            ],
            [
             0.1,
             "#c51b7d"
            ],
            [
             0.2,
             "#de77ae"
            ],
            [
             0.3,
             "#f1b6da"
            ],
            [
             0.4,
             "#fde0ef"
            ],
            [
             0.5,
             "#f7f7f7"
            ],
            [
             0.6,
             "#e6f5d0"
            ],
            [
             0.7,
             "#b8e186"
            ],
            [
             0.8,
             "#7fbc41"
            ],
            [
             0.9,
             "#4d9221"
            ],
            [
             1,
             "#276419"
            ]
           ],
           "sequential": [
            [
             0,
             "#0d0887"
            ],
            [
             0.1111111111111111,
             "#46039f"
            ],
            [
             0.2222222222222222,
             "#7201a8"
            ],
            [
             0.3333333333333333,
             "#9c179e"
            ],
            [
             0.4444444444444444,
             "#bd3786"
            ],
            [
             0.5555555555555556,
             "#d8576b"
            ],
            [
             0.6666666666666666,
             "#ed7953"
            ],
            [
             0.7777777777777778,
             "#fb9f3a"
            ],
            [
             0.8888888888888888,
             "#fdca26"
            ],
            [
             1,
             "#f0f921"
            ]
           ],
           "sequentialminus": [
            [
             0,
             "#0d0887"
            ],
            [
             0.1111111111111111,
             "#46039f"
            ],
            [
             0.2222222222222222,
             "#7201a8"
            ],
            [
             0.3333333333333333,
             "#9c179e"
            ],
            [
             0.4444444444444444,
             "#bd3786"
            ],
            [
             0.5555555555555556,
             "#d8576b"
            ],
            [
             0.6666666666666666,
             "#ed7953"
            ],
            [
             0.7777777777777778,
             "#fb9f3a"
            ],
            [
             0.8888888888888888,
             "#fdca26"
            ],
            [
             1,
             "#f0f921"
            ]
           ]
          },
          "colorway": [
           "#636efa",
           "#EF553B",
           "#00cc96",
           "#ab63fa",
           "#FFA15A",
           "#19d3f3",
           "#FF6692",
           "#B6E880",
           "#FF97FF",
           "#FECB52"
          ],
          "font": {
           "color": "#2a3f5f"
          },
          "geo": {
           "bgcolor": "white",
           "lakecolor": "white",
           "landcolor": "#E5ECF6",
           "showlakes": true,
           "showland": true,
           "subunitcolor": "white"
          },
          "hoverlabel": {
           "align": "left"
          },
          "hovermode": "closest",
          "mapbox": {
           "style": "light"
          },
          "paper_bgcolor": "white",
          "plot_bgcolor": "#E5ECF6",
          "polar": {
           "angularaxis": {
            "gridcolor": "white",
            "linecolor": "white",
            "ticks": ""
           },
           "bgcolor": "#E5ECF6",
           "radialaxis": {
            "gridcolor": "white",
            "linecolor": "white",
            "ticks": ""
           }
          },
          "scene": {
           "xaxis": {
            "backgroundcolor": "#E5ECF6",
            "gridcolor": "white",
            "gridwidth": 2,
            "linecolor": "white",
            "showbackground": true,
            "ticks": "",
            "zerolinecolor": "white"
           },
           "yaxis": {
            "backgroundcolor": "#E5ECF6",
            "gridcolor": "white",
            "gridwidth": 2,
            "linecolor": "white",
            "showbackground": true,
            "ticks": "",
            "zerolinecolor": "white"
           },
           "zaxis": {
            "backgroundcolor": "#E5ECF6",
            "gridcolor": "white",
            "gridwidth": 2,
            "linecolor": "white",
            "showbackground": true,
            "ticks": "",
            "zerolinecolor": "white"
           }
          },
          "shapedefaults": {
           "line": {
            "color": "#2a3f5f"
           }
          },
          "ternary": {
           "aaxis": {
            "gridcolor": "white",
            "linecolor": "white",
            "ticks": ""
           },
           "baxis": {
            "gridcolor": "white",
            "linecolor": "white",
            "ticks": ""
           },
           "bgcolor": "#E5ECF6",
           "caxis": {
            "gridcolor": "white",
            "linecolor": "white",
            "ticks": ""
           }
          },
          "title": {
           "x": 0.05
          },
          "xaxis": {
           "automargin": true,
           "gridcolor": "white",
           "linecolor": "white",
           "ticks": "",
           "title": {
            "standoff": 15
           },
           "zerolinecolor": "white",
           "zerolinewidth": 2
          },
          "yaxis": {
           "automargin": true,
           "gridcolor": "white",
           "linecolor": "white",
           "ticks": "",
           "title": {
            "standoff": 15
           },
           "zerolinecolor": "white",
           "zerolinewidth": 2
          }
         }
        },
        "title": {
         "text": "Distribuição de sentimentos"
        }
       }
      }
     },
     "metadata": {},
     "output_type": "display_data"
    }
   ],
   "source": [
    "px.pie(df.to_pandas(), names='Sentimento', title='Distribuição de sentimentos')"
   ]
  }
 ],
 "metadata": {
  "kernelspec": {
   "display_name": "projeto-com-modelos-hugging-face-cWvEdnYs-py3.12",
   "language": "python",
   "name": "python3"
  },
  "language_info": {
   "codemirror_mode": {
    "name": "ipython",
    "version": 3
   },
   "file_extension": ".py",
   "mimetype": "text/x-python",
   "name": "python",
   "nbconvert_exporter": "python",
   "pygments_lexer": "ipython3",
   "version": "3.12.4"
  }
 },
 "nbformat": 4,
 "nbformat_minor": 2
}
